{
 "cells": [
  {
   "cell_type": "markdown",
   "metadata": {
    "id": "Tce3stUlHN0L"
   },
   "source": [
    "##### Copyright 2024 RapidaAI."
   ]
  },
  {
   "cell_type": "markdown",
   "metadata": {
    "id": "0etRtS83RcWS"
   },
   "source": [
    "# Call Summarizer and Sentiment Analysis RapidaAI endpoint"
   ]
  },
  {
   "cell_type": "markdown",
   "metadata": {
    "id": "r1IzNLho-NqV"
   },
   "source": [
    "This notebook provides an example of how to use rapida-ai endpoint feature to prompt Gemini 1.5 Pro using an audio file. In this case, you'll use a call recording between agent and user to summarize the call and provide the sentiment of user and agent."
   ]
  },
  {
   "cell_type": "code",
   "execution_count": 3,
   "metadata": {
    "id": "Y6eH_Aq_NyNi"
   },
   "outputs": [
    {
     "name": "stdout",
     "output_type": "stream",
     "text": [
      "\u001b[33mDEPRECATION: Loading egg at /opt/homebrew/Cellar/gpgme/1.23.2/lib/python3.12/site-packages/gpg-1.23.2-py3.12-macosx-14-arm64.egg is deprecated. pip 24.3 will enforce this behaviour change. A possible replacement is to use pip for package installation.. Discussion can be found at https://github.com/pypa/pip/issues/12330\u001b[0m\u001b[33m\n",
      "\u001b[0mCollecting rapida-python\n",
      "  Downloading rapida_python-0.0.5-py3-none-any.whl.metadata (2.3 kB)\n",
      "Collecting grpcio==1.60.0 (from rapida-python)\n",
      "  Downloading grpcio-1.60.0-cp312-cp312-macosx_10_10_universal2.whl.metadata (4.0 kB)\n",
      "Collecting protobuf==4.25.2 (from rapida-python)\n",
      "  Using cached protobuf-4.25.2-cp37-abi3-macosx_10_9_universal2.whl.metadata (541 bytes)\n",
      "Downloading rapida_python-0.0.5-py3-none-any.whl (21 kB)\n",
      "Downloading grpcio-1.60.0-cp312-cp312-macosx_10_10_universal2.whl (9.6 MB)\n",
      "\u001b[2K   \u001b[38;2;114;156;31m━━━━━━━━━━━━━━━━━━━━━━━━━━━━━━━━━━━━━━━━\u001b[0m \u001b[32m9.6/9.6 MB\u001b[0m \u001b[31m3.7 MB/s\u001b[0m eta \u001b[36m0:00:00\u001b[0m[31m3.5 MB/s\u001b[0m eta \u001b[36m0:00:01\u001b[0m\n",
      "\u001b[?25hUsing cached protobuf-4.25.2-cp37-abi3-macosx_10_9_universal2.whl (394 kB)\n",
      "Installing collected packages: protobuf, grpcio, rapida-python\n",
      "  Attempting uninstall: protobuf\n",
      "    Found existing installation: protobuf 4.25.3\n",
      "    Uninstalling protobuf-4.25.3:\n",
      "      Successfully uninstalled protobuf-4.25.3\n",
      "Successfully installed grpcio-1.60.0 protobuf-4.25.2 rapida-python-0.0.5\n"
     ]
    }
   ],
   "source": [
    "!pip3 install rapida-python"
   ]
  },
  {
   "cell_type": "code",
   "execution_count": 4,
   "metadata": {},
   "outputs": [],
   "source": [
    "import asyncio\n",
    "import os\n",
    "from rapida import RapidaClient, MediaFile, RapidaClientOptions, RapidaException, RapidaEnvironment"
   ]
  },
  {
   "cell_type": "markdown",
   "metadata": {
    "id": "TXiv-NeZR5WA"
   },
   "source": [
    "## Configure your API key\n",
    "\n",
    "To run, your will need API key provided by rapida. If you don't already have an API key, Signup and create one at [https://www.rapida.ai/vault/project-credential)."
   ]
  },
  {
   "cell_type": "code",
   "execution_count": 5,
   "metadata": {
    "id": "dm-iaNMGPdid"
   },
   "outputs": [],
   "source": [
    "rapida_api_key = os.environ.get(\"RAPIDA_API_KEY\")"
   ]
  },
  {
   "cell_type": "markdown",
   "metadata": {
    "id": "TXiv-NeZR5WA"
   },
   "source": [
    "## Download the sample call recording"
   ]
  },
  {
   "cell_type": "code",
   "execution_count": 7,
   "metadata": {
    "id": "OHvNLws4RRjx"
   },
   "outputs": [],
   "source": [
    "URL = \"https://raw.githubusercontent.com/rapidaai/cookbook/main/assets/agent-call-recording-audio.wav\""
   ]
  },
  {
   "cell_type": "code",
   "execution_count": 8,
   "metadata": {
    "id": "Cxq31LDwSFH6"
   },
   "outputs": [],
   "source": [
    "!wget -q $URL -O agent-call-recording-audio.wav"
   ]
  },
  {
   "cell_type": "markdown",
   "metadata": {
    "id": "m01XDoo4UQvN"
   },
   "source": [
    "## Pass the file while calling endpoint"
   ]
  },
  {
   "cell_type": "code",
   "execution_count": 7,
   "metadata": {
    "id": "YmISEsqpafRb"
   },
   "outputs": [
    {
     "name": "stdout",
     "output_type": "stream",
     "text": [
      "\n",
      "\n",
      "## Audio Summary:\n",
      "\n",
      "Ashwin calls a taxi company, urgently needing a cab to the airport in the next 10-15 minutes as his previous booking with another company fell through. The call center agent initially cannot find an available cab but after checking again, secures a driver who is already nearby and will pick Ashwin up within 3 minutes. The agent assures Ashwin that she will text him the booking confirmation and driver details. Ashwin is relieved and very grateful for the quick resolution. \n",
      "\n",
      "\n",
      "## Sentiment Analysis:\n",
      "\n",
      "* **Ashwin:** Starts with anxiety and urgency due to his situation. Becomes relieved and grateful once the agent finds him a cab. \n",
      "* **Call Center Agent:**  Professional and helpful throughout the call.  Shows empathy for Ashwin's situation and works efficiently to find a solution. \n",
      "\n"
     ]
    }
   ],
   "source": [
    "async def run_endpoint(path):\n",
    "    try:\n",
    "        started_request = time.time()\n",
    "        response = await client.invoke(\n",
    "            endpoint=(2239749507968663552, \"latest\"), \n",
    "            inputs={\n",
    "                 \"recording_file\": MediaFile(filename=path),\n",
    "            },\n",
    "        )\n",
    "        print(response.get_data())\n",
    "        return response.get_data()\n",
    "    except RapidaException as ex:\n",
    "        print(ex.message)\n",
    "\n",
    "\n",
    "if __name__ == \"__main__\":\n",
    "    asyncio.run(run_endpoint(\"./agent-call-recording-audio.wav\"))\n"
   ]
  }
 ],
 "metadata": {
  "colab": {
   "name": "Audio.ipynb",
   "toc_visible": true
  },
  "kernelspec": {
   "display_name": "venv",
   "language": "python",
   "name": "venv"
  },
  "language_info": {
   "codemirror_mode": {
    "name": "ipython",
    "version": 3
   },
   "file_extension": ".py",
   "mimetype": "text/x-python",
   "name": "python",
   "nbconvert_exporter": "python",
   "pygments_lexer": "ipython3",
   "version": "3.12.3"
  }
 },
 "nbformat": 4,
 "nbformat_minor": 4
}
